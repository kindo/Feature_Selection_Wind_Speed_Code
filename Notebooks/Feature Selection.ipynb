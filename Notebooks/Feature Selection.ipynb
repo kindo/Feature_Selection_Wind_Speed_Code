{
 "cells": [
  {
   "cell_type": "code",
   "execution_count": 2,
   "id": "1a1ba6cd",
   "metadata": {},
   "outputs": [],
   "source": [
    "import numpy as np\n",
    "import pandas as pd \n",
    "import matplotlib.pyplot as plt\n",
    "from sklearn.metrics import mean_squared_error, r2_score\n",
    "\n",
    "import sys\n",
    "import os\n",
    "sys.path.append(os.path.abspath(os.path.join('../scripts')))\n",
    "\n",
    "#Import modules for feature selection\n",
    "from featSelectFunctions.GeneticAlgoVarSelectCV3 import GeneticAlgoVarSelectCV\n",
    "from KfoldLinearModels import KfoldLinearRegression\n",
    "from featSelectFunctions.LassoVarSelectCV import LassoVarSelectCV\n",
    "from featSelectFunctions.MRMR import mRMR_VarSelect\n",
    "from featSelectFunctions.RFE_SVMCV import RFE_SVM_v2\n",
    "from featSelectFunctions.EnetVarSelectCV import EnetVarSelectCV\n",
    "from featSelectFunctions.fwrdFeatureSelection import FwrdFeatureSelection\n",
    "\n",
    "\n",
    "\n",
    "import os\n"
   ]
  },
  {
   "cell_type": "code",
   "execution_count": 3,
   "id": "33a41b58",
   "metadata": {},
   "outputs": [],
   "source": [
    "def rrmse(obs, Pred):\n",
    "    return np.sqrt(np.mean(((obs - Pred)/obs)**2))\n",
    "\n",
    "def rmse(obs, Pred):\n",
    "    return np.sqrt(np.mean(((obs - Pred))**2))\n",
    "\n",
    "factkm = (1000)/(60*60)"
   ]
  },
  {
   "cell_type": "code",
   "execution_count": 4,
   "id": "c117811d",
   "metadata": {},
   "outputs": [],
   "source": [
    "Root_data_path = os.path.abspath(os.path.join('../Data'))\n",
    "data = pd.read_csv(os.path.join(Root_data_path ,\"data_train.csv\"))\n",
    "\n",
    "Response = ['1', '2', '3', '4', '5', '6', '7', '8',\n",
    "       '9', '10', '11', '12', '13', '14']\n"
   ]
  },
  {
   "cell_type": "code",
   "execution_count": 5,
   "id": "8b5bcff1",
   "metadata": {},
   "outputs": [],
   "source": [
    "Explanatory = np.array(['EPSG3979_x', 'EPSG3979_y', 'ASP100m.tif', 'ASP500m.tif',\n",
    "       'ASP1000m.tif', 'ASP1500m.tif', 'ASP2000m.tif', \n",
    "       'MXC100m.tif', 'MXC500m.tif', 'MXC1000m.tif', 'MXC1500m.tif',\n",
    "       'MXC2000m.tif', 'MNC100m.tif', 'MNC500m.tif', 'MNC1000m.tif',\n",
    "       'MNC1500m.tif', 'MNC2000m.tif', 'RGI100m.tif', 'RGI500m.tif',\n",
    "       'RGI1000m.tif', 'RGI1500m.tif', 'RGI2000m.tif', 'SLP100m.tif',\n",
    "       'SLP500m.tif', 'SLP1000m.tif', 'SLP1500m.tif', 'SLP2000m.tif',\n",
    "       'DVE100m.tif', 'DVE500m.tif', 'DVE1000m.tif',\n",
    "       'DVE1500m.tif', 'DVE2000m.tif', 'DFE100m.tif', 'DFE500m.tif',\n",
    "       'DFE1000m.tif', 'DFE1500m.tif', 'DFE2000m.tif', 'EPC100m.tif',\n",
    "       'EPC500m.tif', 'EPC1000m.tif', 'EPC1500m.tif', 'EPC2000m.tif',\n",
    "       'RTP100m.tif', 'RTP500m.tif', 'RTP1000m.tif', 'RTP1500m.tif',\n",
    "       'RTP2000m.tif','DoG_1_5.tif', 'DoG_1_10.tif', 'DoG_5_10.tif', 'DoG_3_5.tif',\n",
    "       'DoG_10_20.tif', 'DoG_10_15.tif', 'DoG_1_20.tif', 'DoG_5_20.tif',\n",
    "       'LoG_1m.tif', 'LoG_5m.tif', 'LoG_10m.tif', 'LoG_15m.tif',\n",
    "       'LoG_20m.tif', 'GCV100m.tif', 'GCV500m.tif', 'GCV1000m.tif',\n",
    "       'GCV1500m.tif', 'GCV2000m.tif', 'ALOS_100m.tif',\n",
    "       'MINC100m.tif', 'MINC500m.tif', 'MINC1000m.tif', 'MINC1500m.tif',\n",
    "       'MINC2000m.tif', 'PCUR1000m.tif', 'PCUR1500m.tif', 'PCUR2000m.tif',\n",
    "       'PCUR100m.tif', 'PCUR500m.tif', 'TCUR100m.tif', 'TCUR500m.tif',\n",
    "       'TCUR1000m.tif', 'TCUR1500m.tif', 'TCUR2000m.tif', 'SDS100m.tif',\n",
    "       'SDS500m.tif', 'SDS1000m.tif', 'SDS1500m.tif', 'SDS2000m.tif',\n",
    "       'SAR100m.tif', 'SAR500m.tif', 'SAR1000m.tif', 'SAR1500m.tif',\n",
    "       'SAR2000m.tif', 'TOCUR100m.tif', 'TOCUR500m.tif', 'TOCUR1000m.tif',\n",
    "       'TOCUR1500m.tif', 'TOCUR2000m.tif', 'RoughL_100m', 'RoughL_1km',\n",
    "       'RoughL_1km5',  'RoughL_2km', \n",
    "       'RoughL_500m',  'SeaDist', 'GMP_1', 'GMP_2', 'GMP_3',\n",
    "       'GMP_5', 'GMP_6', 'GMP_7', 'GMP_8', 'GMP_9', 'GMP_10', \n",
    "       'PLC_5', 'PLC_6', 'PLC_7'])"
   ]
  },
  {
   "attachments": {},
   "cell_type": "markdown",
   "id": "a33454ba",
   "metadata": {},
   "source": [
    "# Enet "
   ]
  },
  {
   "cell_type": "code",
   "execution_count": 6,
   "id": "08c71764",
   "metadata": {},
   "outputs": [
    {
     "name": "stdout",
     "output_type": "stream",
     "text": [
      "Progress ... 1 / 1\n"
     ]
    }
   ],
   "source": [
    "#The parameters were initially selected see the notebook \"Lasso Enet Parameters Search\"\n",
    "paraEnet = [(0.4111111111111111, 0.9333333333333333),\n",
    " (0.4111111111111111, 0.9333333333333333),\n",
    " (0.1, 1.0),\n",
    " (0.4111111111111111, 0.6000000000000001),\n",
    " (0.25555555555555554, 0.8),\n",
    " (0.33333333333333337, 0.6666666666666667),\n",
    " (0.25555555555555554, 0.8666666666666667),\n",
    " (0.6444444444444445, 0.6666666666666667),\n",
    " (0.48888888888888893, 0.7333333333333334),\n",
    " (0.5666666666666667, 0.6000000000000001),\n",
    " (0.8, 0.4666666666666667),\n",
    " (0.1, 0.9333333333333333),\n",
    " (0.1, 0.8666666666666667),\n",
    " (0.1, 0.7333333333333334),\n",
    " (0.6444444444444445, 0.4),\n",
    " (0.5666666666666667, 0.4),\n",
    " (0.4111111111111111, 0.5333333333333333)]\n",
    "\n",
    "EnetFeat = []\n",
    "\n",
    "for VarY, Para in zip(Response, paraEnet):\n",
    "    EnetvarX, Para = EnetVarSelectCV(data, VarY, Explanatory, [Para[0]], [Para[1]])\n",
    "    EnetFeat.append(EnetvarX)"
   ]
  },
  {
   "attachments": {},
   "cell_type": "markdown",
   "id": "cb83ef81",
   "metadata": {},
   "source": [
    "# LASSO"
   ]
  },
  {
   "cell_type": "code",
   "execution_count": 8,
   "id": "622b4115",
   "metadata": {},
   "outputs": [
    {
     "name": "stdout",
     "output_type": "stream",
     "text": [
      "Progress ...0 / 1\n"
     ]
    }
   ],
   "source": [
    "LassoFeat = []\n",
    "\n",
    "#The parameters were initially selected see the notebook \"Lasso Enet Parameters Search\"\n",
    "Alphas = [0.35306122448979593,\n",
    " 0.3857142857142858,\n",
    " 0.4102040816326531,\n",
    " 0.36122448979591837,\n",
    " 0.35306122448979593,\n",
    " 0.3204081632653062,\n",
    " 0.3040816326530612,\n",
    " 0.3122448979591837,\n",
    " 0.29591836734693877,\n",
    " 0.3204081632653062,\n",
    " 0.40204081632653066,\n",
    " 0.3285714285714286,\n",
    " 0.3448979591836735,\n",
    " 0.3204081632653062,\n",
    " 0.29591836734693877,\n",
    " 0.3857142857142858,\n",
    " 0.41836734693877553]\n",
    "\n",
    "for VarY, al in zip(Response, Alphas):\n",
    "    LassovarX = LassoVarSelectCV(data, VarY, Explanatory, [al])\n",
    "    LassoFeat.append(LassovarX)"
   ]
  },
  {
   "attachments": {},
   "cell_type": "markdown",
   "id": "27f056c3",
   "metadata": {},
   "source": [
    "# Genetic Algo"
   ]
  },
  {
   "cell_type": "code",
   "execution_count": null,
   "id": "9062a632",
   "metadata": {},
   "outputs": [],
   "source": [
    "GAFeat = []\n",
    "ngen = 100\n",
    "for VarY in Response:\n",
    "    BestSolution, _, _ = GeneticAlgoVarSelectCV(data, 50, Explanatory, VarY, ngen,  FitnessWratio=0.5)\n",
    "    varx = BestSolution\n",
    "    GAFeat.append(varx)\n",
    "    "
   ]
  },
  {
   "attachments": {},
   "cell_type": "markdown",
   "id": "150e59d6",
   "metadata": {},
   "source": [
    "# Maximum Relevance Minimum Redundancy "
   ]
  },
  {
   "cell_type": "code",
   "execution_count": null,
   "id": "8f785c54",
   "metadata": {},
   "outputs": [],
   "source": [
    "MRFeat = []\n",
    "Ks = np.arange(2, 20)\n",
    "\n",
    "for varY in Response:\n",
    "    score = np.zeros(Ks.shape[0])\n",
    "    for ix, k in enumerate(Ks):\n",
    "        print(ix)\n",
    "        varX = mRMR_VarSelect(data, Explanatory, varY, k)\n",
    "        score[ix] = KfoldLinearRegression(data, varY, varX)[\"rrmse\"]\n",
    "    Kbest = Ks[np.argmin(score)]\n",
    "    \n",
    "    varXBest = np.array(mRMR_VarSelect(data, Explanatory, varY, Kbest))\n",
    "    MRFeat.append(varXBest)\n",
    "MRFeat = [np.array(featLs) for featLs in MRFeat]"
   ]
  },
  {
   "attachments": {},
   "cell_type": "markdown",
   "id": "893134c1",
   "metadata": {},
   "source": [
    "# Forward Feature Selection "
   ]
  },
  {
   "cell_type": "code",
   "execution_count": null,
   "id": "36ed505b",
   "metadata": {},
   "outputs": [],
   "source": [
    "FFS_Feat = []\n",
    "\n",
    "for varY in Response:\n",
    "    varx = FwrdFeatureSelection(data=data, varX=list(Explanatory), varY=varY)\n",
    "    FFS_Feat.append(varx)"
   ]
  },
  {
   "attachments": {},
   "cell_type": "markdown",
   "id": "95e08b36",
   "metadata": {},
   "source": [
    "# Recursive Feature Elimination SVM "
   ]
  },
  {
   "cell_type": "code",
   "execution_count": null,
   "id": "d4b3cba1",
   "metadata": {},
   "outputs": [],
   "source": [
    "RFEFeat = []\n",
    "\n",
    "for VarY in Response:\n",
    "    _, RFEvarX, _, _= RFE_SVM_v2(data=data, VarY=VarY,\n",
    "                                     VarX=Explanatory, \n",
    "                                     SVRParaSearchC=np.linspace(0.1, 10, 100))\n",
    "    RFEFeat.append(RFEvarX)\n",
    "    "
   ]
  },
  {
   "attachments": {},
   "cell_type": "markdown",
   "id": "9ecfbc07",
   "metadata": {},
   "source": [
    "# Saving Data all"
   ]
  },
  {
   "cell_type": "code",
   "execution_count": null,
   "id": "49a962c4",
   "metadata": {},
   "outputs": [],
   "source": [
    "(pd.DataFrame( [list(feat) for feat in [LassoFeat, EnetFeat, GAFeat, MRFeat, RFEFeat, FFS_Feat]], \n",
    "             index=[\"LassoFeat\", \"EnetFeat\", \"GAFeat\", \"MRFeat\", \"RFEFeat\", \"FFSFeat\"], \n",
    "            columns=[\"P\"+str(i) for i in range(1, 18)])\n",
    " .to_csv(os.path.abspath(r\"..\\Results\\varSelect.csv\")))"
   ]
  },
  {
   "cell_type": "code",
   "execution_count": null,
   "id": "ffe43f3a",
   "metadata": {},
   "outputs": [],
   "source": [
    "[LassoFeat, EnetFeat, GAFeat, MRFeat, RFEFeat]"
   ]
  }
 ],
 "metadata": {
  "kernelspec": {
   "display_name": "Python 3 (ipykernel)",
   "language": "python",
   "name": "python3"
  },
  "language_info": {
   "codemirror_mode": {
    "name": "ipython",
    "version": 3
   },
   "file_extension": ".py",
   "mimetype": "text/x-python",
   "name": "python",
   "nbconvert_exporter": "python",
   "pygments_lexer": "ipython3",
   "version": "3.10.6"
  }
 },
 "nbformat": 4,
 "nbformat_minor": 5
}
