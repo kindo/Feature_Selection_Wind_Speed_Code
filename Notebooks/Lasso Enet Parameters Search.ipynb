{
 "cells": [
  {
   "cell_type": "code",
   "execution_count": null,
   "id": "1a1ba6cd",
   "metadata": {},
   "outputs": [],
   "source": [
    "import numpy as np\n",
    "import pandas as pd \n",
    "import matplotlib.pyplot as plt\n",
    "from sklearn.metrics import mean_squared_error, r2_score\n",
    "\n",
    "import sys\n",
    "import os\n",
    "sys.path.append(os.path.abspath(os.path.join('../scripts')))\n",
    "\n",
    "from featSelectFunctions.LassoVarSelectCV import LassoVarSelectCV\n",
    "from featSelectFunctions.EnetVarSelectCV import EnetVarSelectCV\n",
    "from KfoldLinearModels import KfoldLinearRegression\n",
    "\n",
    "import os\n"
   ]
  },
  {
   "cell_type": "code",
   "execution_count": null,
   "id": "33a41b58",
   "metadata": {},
   "outputs": [],
   "source": [
    "def rrmse(obs, Pred):\n",
    "    return np.sqrt(np.mean(((obs - Pred)/obs)**2))\n",
    "\n",
    "def rrmse(obs, Pred):\n",
    "    return np.sqrt(np.mean(((obs - Pred)/obs)**2))\n",
    "\n",
    "def rmse(obs, Pred):\n",
    "    return np.sqrt(np.mean(((obs - Pred))**2))\n",
    "\n",
    "factkm = (1000)/(60*60)\n",
    "\n"
   ]
  },
  {
   "cell_type": "code",
   "execution_count": null,
   "id": "c117811d",
   "metadata": {},
   "outputs": [],
   "source": [
    "Root_data_path = os.path.abspath(os.path.join('../Data'))\n",
    "data = pd.read_csv(os.path.join(Root_data_path ,\"data_train.csv\"))\n",
    "\n",
    "data = pd.read_csv(os.path.join(Root_data_path, \"data_train.csv\"))\n",
    "\n",
    "Response = ['1', '2', '3', '4', '5', '6', '7', '8',\n",
    "       '9', '10', '11', '12', '13', '14']\n",
    "\n",
    "\n",
    "\n",
    "Explanatory = np.array(['EPSG3979_x', 'EPSG3979_y', 'ASP100m.tif', 'ASP500m.tif',\n",
    "       'ASP1000m.tif', 'ASP1500m.tif', 'ASP2000m.tif', \n",
    "       'MXC100m.tif', 'MXC500m.tif', 'MXC1000m.tif', 'MXC1500m.tif',\n",
    "       'MXC2000m.tif', 'MNC100m.tif', 'MNC500m.tif', 'MNC1000m.tif',\n",
    "       'MNC1500m.tif', 'MNC2000m.tif', 'RGI100m.tif', 'RGI500m.tif',\n",
    "       'RGI1000m.tif', 'RGI1500m.tif', 'RGI2000m.tif', 'SLP100m.tif',\n",
    "       'SLP500m.tif', 'SLP1000m.tif', 'SLP1500m.tif', 'SLP2000m.tif',\n",
    "       'DVE100m.tif', 'DVE500m.tif', 'DVE1000m.tif',\n",
    "       'DVE1500m.tif', 'DVE2000m.tif', 'DFE100m.tif', 'DFE500m.tif',\n",
    "       'DFE1000m.tif', 'DFE1500m.tif', 'DFE2000m.tif', 'EPC100m.tif',\n",
    "       'EPC500m.tif', 'EPC1000m.tif', 'EPC1500m.tif', 'EPC2000m.tif',\n",
    "       'RTP100m.tif', 'RTP500m.tif', 'RTP1000m.tif', 'RTP1500m.tif',\n",
    "       'RTP2000m.tif','DoG_1_5.tif', 'DoG_1_10.tif', 'DoG_5_10.tif', 'DoG_3_5.tif',\n",
    "       'DoG_10_20.tif', 'DoG_10_15.tif', 'DoG_1_20.tif', 'DoG_5_20.tif',\n",
    "       'LoG_1m.tif', 'LoG_5m.tif', 'LoG_10m.tif', 'LoG_15m.tif',\n",
    "       'LoG_20m.tif', 'GCV100m.tif', 'GCV500m.tif', 'GCV1000m.tif',\n",
    "       'GCV1500m.tif', 'GCV2000m.tif', 'ALOS_100m.tif',\n",
    "       'MINC100m.tif', 'MINC500m.tif', 'MINC1000m.tif', 'MINC1500m.tif',\n",
    "       'MINC2000m.tif', 'PCUR1000m.tif', 'PCUR1500m.tif', 'PCUR2000m.tif',\n",
    "       'PCUR100m.tif', 'PCUR500m.tif', 'TCUR100m.tif', 'TCUR500m.tif',\n",
    "       'TCUR1000m.tif', 'TCUR1500m.tif', 'TCUR2000m.tif', 'SDS100m.tif',\n",
    "       'SDS500m.tif', 'SDS1000m.tif', 'SDS1500m.tif', 'SDS2000m.tif',\n",
    "       'SAR100m.tif', 'SAR500m.tif', 'SAR1000m.tif', 'SAR1500m.tif',\n",
    "       'SAR2000m.tif', 'TOCUR100m.tif', 'TOCUR500m.tif', 'TOCUR1000m.tif',\n",
    "       'TOCUR1500m.tif', 'TOCUR2000m.tif', 'RoughL_100m', 'RoughL_1km',\n",
    "       'RoughL_1km5',  'RoughL_2km', \n",
    "       'RoughL_500m',  'SeaDist', 'GMP_1', 'GMP_2', 'GMP_3',\n",
    "       'GMP_5', 'GMP_6', 'GMP_7', 'GMP_8', 'GMP_9', 'GMP_10', \n",
    "       'PLC_5', 'PLC_6', 'PLC_7'])"
   ]
  },
  {
   "attachments": {},
   "cell_type": "markdown",
   "id": "a33454ba",
   "metadata": {},
   "source": [
    "# Enet "
   ]
  },
  {
   "cell_type": "code",
   "execution_count": null,
   "id": "5da5f5f6",
   "metadata": {},
   "outputs": [],
   "source": [
    "def bestEnetPara(data, varY, VarX, alphas=np.linspace(0.1, 0.8, 10), L1ratios= np.linspace(0.4, 1, 10), niter=50):\n",
    "    AllRes = []\n",
    "    EnetPara = []\n",
    "    for a in alphas:\n",
    "        al = [a]\n",
    "        for b in L1ratios:\n",
    "            l1r = [b]\n",
    "            res = []\n",
    "            \n",
    "            EnetPara.append((a, b))\n",
    "            for _ in range(niter):\n",
    "                EnetvarX, _ = EnetVarSelectCV(data, varY, VarX, al , l1r)\n",
    "                if len(EnetvarX) == 0:\n",
    "                    res.append(-99999)\n",
    "                else:\n",
    "                    res.append(KfoldLinearRegression(data, varY, EnetvarX)[\"r2\"])\n",
    "            AllRes.append(res)\n",
    "\n",
    "    \n",
    "    ResBest = [[], [], []]\n",
    "\n",
    "    for res, a in zip(AllRes, EnetPara):\n",
    "        ResBest[0].append(a); ResBest[1].append(np.mean(res)); ResBest[2].append(np.min(res))\n",
    "        \n",
    "    ResBest = pd.DataFrame(np.array(ResBest).T, columns=[\"EnetPara\", \"Mean\", \"Min\"])\n",
    "    return ResBest\n"
   ]
  },
  {
   "cell_type": "code",
   "execution_count": null,
   "id": "82dacc3f",
   "metadata": {},
   "outputs": [],
   "source": [
    "EnetPara = []\n",
    "\n",
    "for varY in Response:\n",
    "\n",
    "    Result = bestEnetPara(data, varY=varY, VarX=Explanatory)\n",
    "    \n",
    "    BestPara = Result.sort_values(\"Mean\").iloc[-1, ][\"EnetPara\"]\n",
    "    EnetPara.append(BestPara)"
   ]
  },
  {
   "attachments": {},
   "cell_type": "markdown",
   "id": "cb83ef81",
   "metadata": {},
   "source": [
    "# LASSO"
   ]
  },
  {
   "cell_type": "code",
   "execution_count": null,
   "id": "62eb5c82",
   "metadata": {},
   "outputs": [],
   "source": [
    "def bestAlphaLasso(data, varY, VarX, alphas=np.linspace(0.1, 0.5, 50), niter=50):\n",
    "    AllRes = []\n",
    "    \n",
    "    for a in alphas:\n",
    "        para = [a]\n",
    "        \n",
    "        res = []\n",
    "        for _ in range(niter):\n",
    "            LvarX = LassoVarSelectCV(data, varY, VarX, para)\n",
    "            if len(LvarX) == 0:\n",
    "                res.append(99999)\n",
    "            else:\n",
    "                res.append(KfoldLinearRegression(data, varY, LvarX)[\"rrmse\"])\n",
    "        AllRes.append(res)\n",
    "\n",
    "    \n",
    "    ResBest = [[], [], []]\n",
    "\n",
    "    for res, a in zip(AllRes, alphas):\n",
    "        ResBest[0].append(a); ResBest[1].append(np.mean(res)); ResBest[2].append(np.max(res))\n",
    "        \n",
    "    ResBest = pd.DataFrame(np.array(ResBest).T, columns=[\"alpha\", \"Mean\", \"Max\"])\n",
    "    return ResBest\n"
   ]
  },
  {
   "cell_type": "code",
   "execution_count": null,
   "id": "337dd63f",
   "metadata": {},
   "outputs": [],
   "source": [
    "LassoAlpha = []\n",
    "\n",
    "for varY in Response:\n",
    "\n",
    "    ResLasso = bestAlphaLasso(data, varY, Explanatory)\n",
    "    LassoAlpha.append(ResLasso.sort_values(by=\"Max\").iloc[0, 0])"
   ]
  }
 ],
 "metadata": {
  "kernelspec": {
   "display_name": "Python 3 (ipykernel)",
   "language": "python",
   "name": "python3"
  },
  "language_info": {
   "codemirror_mode": {
    "name": "ipython",
    "version": 3
   },
   "file_extension": ".py",
   "mimetype": "text/x-python",
   "name": "python",
   "nbconvert_exporter": "python",
   "pygments_lexer": "ipython3",
   "version": "3.10.6"
  }
 },
 "nbformat": 4,
 "nbformat_minor": 5
}
